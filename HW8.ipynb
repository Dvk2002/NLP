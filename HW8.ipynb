{
  "nbformat": 4,
  "nbformat_minor": 0,
  "metadata": {
    "kernelspec": {
      "display_name": "Python 3",
      "language": "python",
      "name": "python3"
    },
    "language_info": {
      "codemirror_mode": {
        "name": "ipython",
        "version": 3
      },
      "file_extension": ".py",
      "mimetype": "text/x-python",
      "name": "python",
      "nbconvert_exporter": "python",
      "pygments_lexer": "ipython3",
      "version": "3.8.5"
    },
    "colab": {
      "name": "HW8.ipynb",
      "provenance": [],
      "include_colab_link": true
    }
  },
  "cells": [
    {
      "cell_type": "markdown",
      "metadata": {
        "id": "view-in-github",
        "colab_type": "text"
      },
      "source": [
        "<a href=\"https://colab.research.google.com/github/Dvk2002/NLP/blob/main/HW8.ipynb\" target=\"_parent\"><img src=\"https://colab.research.google.com/assets/colab-badge.svg\" alt=\"Open In Colab\"/></a>"
      ]
    },
    {
      "cell_type": "code",
      "metadata": {
        "colab": {
          "base_uri": "https://localhost:8080/"
        },
        "id": "6HSVpWA09goe",
        "outputId": "46db3f8a-9654-4149-a485-3373d0b32ee1"
      },
      "source": [
        "pip install stop_words"
      ],
      "execution_count": null,
      "outputs": [
        {
          "output_type": "stream",
          "text": [
            "Collecting stop_words\n",
            "  Downloading stop-words-2018.7.23.tar.gz (31 kB)\n",
            "Building wheels for collected packages: stop-words\n",
            "  Building wheel for stop-words (setup.py) ... \u001b[?25l\u001b[?25hdone\n",
            "  Created wheel for stop-words: filename=stop_words-2018.7.23-py3-none-any.whl size=32911 sha256=03060b1efba3947445c7275827120df165f54249fd4c62d657ac84e081dd1a1b\n",
            "  Stored in directory: /root/.cache/pip/wheels/fb/86/b2/277b10b1ce9f73ce15059bf6975d4547cc4ec3feeb651978e9\n",
            "Successfully built stop-words\n",
            "Installing collected packages: stop-words\n",
            "Successfully installed stop-words-2018.7.23\n"
          ],
          "name": "stdout"
        }
      ]
    },
    {
      "cell_type": "code",
      "metadata": {
        "colab": {
          "base_uri": "https://localhost:8080/"
        },
        "id": "-6S-_W0wAhzt",
        "outputId": "eb134fdc-6370-4353-e872-2a9583f96122"
      },
      "source": [
        "pip install pymorphy2"
      ],
      "execution_count": null,
      "outputs": [
        {
          "output_type": "stream",
          "text": [
            "Collecting pymorphy2\n",
            "  Downloading pymorphy2-0.9.1-py3-none-any.whl (55 kB)\n",
            "\u001b[?25l\r\u001b[K     |██████                          | 10 kB 21.8 MB/s eta 0:00:01\r\u001b[K     |███████████▉                    | 20 kB 26.4 MB/s eta 0:00:01\r\u001b[K     |█████████████████▊              | 30 kB 20.8 MB/s eta 0:00:01\r\u001b[K     |███████████████████████▋        | 40 kB 16.5 MB/s eta 0:00:01\r\u001b[K     |█████████████████████████████▌  | 51 kB 8.3 MB/s eta 0:00:01\r\u001b[K     |████████████████████████████████| 55 kB 2.4 MB/s \n",
            "\u001b[?25hCollecting dawg-python>=0.7.1\n",
            "  Downloading DAWG_Python-0.7.2-py2.py3-none-any.whl (11 kB)\n",
            "Requirement already satisfied: docopt>=0.6 in /usr/local/lib/python3.7/dist-packages (from pymorphy2) (0.6.2)\n",
            "Collecting pymorphy2-dicts-ru<3.0,>=2.4\n",
            "  Downloading pymorphy2_dicts_ru-2.4.417127.4579844-py2.py3-none-any.whl (8.2 MB)\n",
            "\u001b[K     |████████████████████████████████| 8.2 MB 13.0 MB/s \n",
            "\u001b[?25hInstalling collected packages: pymorphy2-dicts-ru, dawg-python, pymorphy2\n",
            "Successfully installed dawg-python-0.7.2 pymorphy2-0.9.1 pymorphy2-dicts-ru-2.4.417127.4579844\n"
          ],
          "name": "stdout"
        }
      ]
    },
    {
      "cell_type": "code",
      "metadata": {
        "colab": {
          "base_uri": "https://localhost:8080/"
        },
        "id": "AxJDsgiMDEK6",
        "outputId": "895df6ce-759a-4228-e247-4b6e61cf65c2"
      },
      "source": [
        "from google.colab import drive\n",
        "drive.mount('/gdrive')"
      ],
      "execution_count": null,
      "outputs": [
        {
          "output_type": "stream",
          "text": [
            "Mounted at /gdrive\n"
          ],
          "name": "stdout"
        }
      ]
    },
    {
      "cell_type": "code",
      "metadata": {
        "colab": {
          "base_uri": "https://localhost:8080/"
        },
        "id": "KoqjV6aKOeqZ",
        "outputId": "24a5333f-52da-4448-9ada-7cb49791c55f"
      },
      "source": [
        "%ls"
      ],
      "execution_count": null,
      "outputs": [
        {
          "output_type": "stream",
          "text": [
            "\u001b[0m\u001b[01;34mbin\u001b[0m/      \u001b[01;34mdatalab\u001b[0m/  \u001b[01;34mhome\u001b[0m/   \u001b[01;34mlib64\u001b[0m/  \u001b[01;34mopt\u001b[0m/   \u001b[01;34mrun\u001b[0m/   \u001b[01;34msys\u001b[0m/                \u001b[01;34mtools\u001b[0m/\n",
            "\u001b[01;34mboot\u001b[0m/     \u001b[01;34mdev\u001b[0m/      \u001b[01;34mlib\u001b[0m/    \u001b[01;34mmedia\u001b[0m/  \u001b[01;34mproc\u001b[0m/  \u001b[01;34msbin\u001b[0m/  \u001b[01;34mtensorflow-1.15.2\u001b[0m/  \u001b[01;34musr\u001b[0m/\n",
            "\u001b[01;34mcontent\u001b[0m/  \u001b[01;34metc\u001b[0m/      \u001b[01;34mlib32\u001b[0m/  \u001b[01;34mmnt\u001b[0m/    \u001b[01;34mroot\u001b[0m/  \u001b[01;34msrv\u001b[0m/   \u001b[30;42mtmp\u001b[0m/                \u001b[01;34mvar\u001b[0m/\n"
          ],
          "name": "stdout"
        }
      ]
    },
    {
      "cell_type": "code",
      "metadata": {
        "colab": {
          "base_uri": "https://localhost:8080/"
        },
        "id": "slXFBWIkCorP",
        "outputId": "1aaab1cc-1cbb-4ee2-b32c-cd3e65899ad6"
      },
      "source": [
        "cd ../"
      ],
      "execution_count": null,
      "outputs": [
        {
          "output_type": "stream",
          "text": [
            "/\n"
          ],
          "name": "stdout"
        }
      ]
    },
    {
      "cell_type": "code",
      "metadata": {
        "colab": {
          "base_uri": "https://localhost:8080/"
        },
        "id": "5AjnWEInDMNl",
        "outputId": "08c5ff7d-9475-4432-e561-aa844fff0aa1"
      },
      "source": [
        "\n",
        "%cd /gdrive/MyDrive/Colab_Notebooks/NLP/L8\n"
      ],
      "execution_count": null,
      "outputs": [
        {
          "output_type": "stream",
          "text": [
            "/gdrive/MyDrive/Colab_Notebooks/NLP/L8\n"
          ],
          "name": "stdout"
        }
      ]
    },
    {
      "cell_type": "code",
      "metadata": {
        "id": "wThzg5Hk9OeY"
      },
      "source": [
        "\n",
        "import pandas as pd\n",
        "from string import punctuation\n",
        "from stop_words import get_stop_words\n",
        "from pymorphy2 import MorphAnalyzer\n",
        "import re\n",
        "\n",
        "df_train = pd.read_csv(\"data/train.csv\")\n",
        "df_test = pd.read_csv(\"data/test.csv\")\n",
        "df_val = pd.read_csv(\"data/val.csv\")\n"
      ],
      "execution_count": null,
      "outputs": []
    },
    {
      "cell_type": "code",
      "metadata": {
        "id": "lFNUCIFw9Oed"
      },
      "source": [
        "import numpy as np\n",
        "import tensorflow as tf\n",
        "# from tensorflow import keras\n",
        "from tensorflow.keras import Sequential, Model\n",
        "from tensorflow.keras.layers import Dense, Dropout, Activation, Input, Embedding, Conv1D, GlobalMaxPool1D, SimpleRNN, LSTM, GRU, Masking\n",
        "from tensorflow.keras.layers import GlobalMaxPool1D,Bidirectional,LayerNormalization\n",
        "from tensorflow.keras.preprocessing.text import Tokenizer\n",
        "from tensorflow.keras.preprocessing.sequence import pad_sequences\n",
        "from tensorflow.keras.callbacks import TensorBoard \n",
        "from tensorflow.keras.losses import categorical_crossentropy\n",
        "from tensorflow.keras.callbacks import EarlyStopping  "
      ],
      "execution_count": null,
      "outputs": []
    },
    {
      "cell_type": "code",
      "metadata": {
        "id": "Nw4GEh3eY8zK"
      },
      "source": [
        ""
      ],
      "execution_count": null,
      "outputs": []
    },
    {
      "cell_type": "code",
      "metadata": {
        "colab": {
          "base_uri": "https://localhost:8080/"
        },
        "id": "gjRXZbeg9Oef",
        "outputId": "0731c2e0-84a9-4d2a-8a8a-3b2585667c32"
      },
      "source": [
        "tf.config.list_physical_devices('GPU')"
      ],
      "execution_count": null,
      "outputs": [
        {
          "output_type": "execute_result",
          "data": {
            "text/plain": [
              "[PhysicalDevice(name='/physical_device:GPU:0', device_type='GPU')]"
            ]
          },
          "metadata": {
            "tags": []
          },
          "execution_count": 8
        }
      ]
    },
    {
      "cell_type": "code",
      "metadata": {
        "id": "ot0mNSw29Oeg"
      },
      "source": [
        "sw = set(get_stop_words(\"ru\"))\n",
        "exclude = set(punctuation)\n",
        "morpher = MorphAnalyzer()\n",
        "\n",
        "def preprocess_text(txt):\n",
        "    txt = str(txt)\n",
        "    txt = \"\".join(c for c in txt if c not in exclude)\n",
        "    txt = txt.lower()\n",
        "    txt = re.sub(\"\\sне\", \"не\", txt)\n",
        "    txt = [morpher.parse(word)[0].normal_form for word in txt.split() if word not in sw]\n",
        "    return \" \".join(txt)\n",
        "\n",
        "df_train['text'] = df_train['text'].apply(preprocess_text)\n",
        "df_val['text'] = df_val['text'].apply(preprocess_text)\n",
        "df_test['text'] = df_test['text'].apply(preprocess_text)"
      ],
      "execution_count": null,
      "outputs": []
    },
    {
      "cell_type": "code",
      "metadata": {
        "colab": {
          "base_uri": "https://localhost:8080/"
        },
        "id": "_WAvrLkg9Oeh",
        "outputId": "9050454f-d18a-4634-bf2c-20103684a48d"
      },
      "source": [
        "df_train['text']"
      ],
      "execution_count": null,
      "outputs": [
        {
          "output_type": "execute_result",
          "data": {
            "text/plain": [
              "0         alisachachkaич уезжаааааааать ❤ тожена хотеть ...\n",
              "1         rt galyginvadim ребята девчата кино любовь зав...\n",
              "2           rt artemklyushin ктоненавидеть пробка ретвит rt\n",
              "3         rt epupybobv хотеться котлета покиевск запретн...\n",
              "4         karinekurganova yessboss босапоп есбосан боять...\n",
              "                                ...                        \n",
              "181462                     классный новый httptcolejaguxnwu\n",
              "181463                       видеть человек привет игнорита\n",
              "181464    julia69styles длинный диагноз вкратце аллергич...\n",
              "181465    technoslav ух серенький кнопочень телефон дост...\n",
              "181466    kris1d07 собираться сделатьd навешать фотка ва...\n",
              "Name: text, Length: 181467, dtype: object"
            ]
          },
          "metadata": {
            "tags": []
          },
          "execution_count": 26
        }
      ]
    },
    {
      "cell_type": "code",
      "metadata": {
        "id": "5fR6FDl_9Oei"
      },
      "source": [
        "text_corpus_train = df_train['text'].values\n",
        "text_corpus_valid = df_val['text'].values\n",
        "text_corpus_test = df_test['text'].values"
      ],
      "execution_count": null,
      "outputs": []
    },
    {
      "cell_type": "code",
      "metadata": {
        "colab": {
          "base_uri": "https://localhost:8080/"
        },
        "id": "mmmb66oFZgf1",
        "outputId": "240887fe-be8f-473d-e840-58954d54959e"
      },
      "source": [
        "text_corpus_train"
      ],
      "execution_count": null,
      "outputs": [
        {
          "output_type": "execute_result",
          "data": {
            "text/plain": [
              "array(['alisachachkaич уезжаааааааать ❤ тожена хотеть уезжать',\n",
              "       'rt galyginvadim ребята девчата кино любовь завтра вотэтолюбовь',\n",
              "       'rt artemklyushin ктоненавидеть пробка ретвит rt', ...,\n",
              "       'julia69styles длинный диагноз вкратце аллергический отечь горло осложнение вид фолликулярный ангина',\n",
              "       'technoslav ух серенький кнопочень телефон достаться',\n",
              "       'kris1d07 собираться сделатьd навешать фотка вандюхd обязательно выложить фотка нарядишь3'],\n",
              "      dtype=object)"
            ]
          },
          "metadata": {
            "tags": []
          },
          "execution_count": 69
        }
      ]
    },
    {
      "cell_type": "code",
      "metadata": {
        "id": "-NpRfUav9Oej"
      },
      "source": [
        "tokenizer = Tokenizer(num_words=None, \n",
        "                     filters='#$%&()*+-<=>@[\\\\]^_`{|}~\\t\\n',\n",
        "                     lower = False, split = ' ')\n",
        "tokenizer.fit_on_texts(text_corpus_train)\n",
        "\n",
        "sequences_train = tokenizer.texts_to_sequences(text_corpus_train)\n",
        "sequences_val = tokenizer.texts_to_sequences(text_corpus_valid)\n",
        "sequences_test = tokenizer.texts_to_sequences(text_corpus_test)\n",
        "\n",
        "word_count = len(tokenizer.index_word) + 1\n",
        "training_length = max([len(i.split()) for i in text_corpus_train])\n",
        "\n",
        "X_train = pad_sequences(sequences_train, maxlen=training_length)\n",
        "X_valid = pad_sequences(sequences_val, maxlen=training_length)"
      ],
      "execution_count": null,
      "outputs": []
    },
    {
      "cell_type": "code",
      "metadata": {
        "colab": {
          "base_uri": "https://localhost:8080/"
        },
        "id": "DC4zCApbZR1I",
        "outputId": "f7e9f62c-a9cc-461b-ffe3-c2df050655d8"
      },
      "source": [
        "text_corpus_train"
      ],
      "execution_count": null,
      "outputs": [
        {
          "output_type": "execute_result",
          "data": {
            "text/plain": [
              "array(['alisachachkaич уезжаааааааать ❤ тожена хотеть уезжать',\n",
              "       'rt galyginvadim ребята девчата кино любовь завтра вотэтолюбовь',\n",
              "       'rt artemklyushin ктоненавидеть пробка ретвит rt', ...,\n",
              "       'julia69styles длинный диагноз вкратце аллергический отечь горло осложнение вид фолликулярный ангина',\n",
              "       'technoslav ух серенький кнопочень телефон достаться',\n",
              "       'kris1d07 собираться сделатьd навешать фотка вандюхd обязательно выложить фотка нарядишь3'],\n",
              "      dtype=object)"
            ]
          },
          "metadata": {
            "tags": []
          },
          "execution_count": 66
        }
      ]
    },
    {
      "cell_type": "code",
      "metadata": {
        "id": "6iKfzann9Oek"
      },
      "source": [
        "y_train = df_train['class'].values\n",
        "y_val = df_val['class'].values"
      ],
      "execution_count": null,
      "outputs": []
    },
    {
      "cell_type": "code",
      "metadata": {
        "id": "OJhSX3tQVuxK",
        "colab": {
          "base_uri": "https://localhost:8080/"
        },
        "outputId": "451b0e42-c147-4452-c2dc-657a1969a709"
      },
      "source": [
        "model = Sequential()\n",
        "\n",
        "model.add(\n",
        "    Embedding(input_dim=word_count,\n",
        "              input_length=training_length,\n",
        "              output_dim=100,\n",
        "              trainable=True,\n",
        "              mask_zero=True))\n",
        "model.add(Conv1D(128, 3,activation='relu'))\n",
        "model.add(Conv1D(64, 3, activation='relu'))\n",
        "model.add(Conv1D(32, 3, activation='relu'))\n",
        "model.add(GlobalMaxPool1D())\n",
        "model.add(Dense(32, activation='relu'))\n",
        "model.add(Dropout(0.2))\n",
        "model.add(Dense(16, activation='relu'))\n",
        "model.add(Dropout(0.2))\n",
        "model.add(Dense(1, activation='sigmoid'))\n",
        "\n",
        "model.compile(\n",
        "    optimizer='adam', loss='binary_crossentropy', metrics=['accuracy'])\n",
        "model.summary()"
      ],
      "execution_count": null,
      "outputs": [
        {
          "output_type": "stream",
          "text": [
            "Model: \"sequential_12\"\n",
            "_________________________________________________________________\n",
            "Layer (type)                 Output Shape              Param #   \n",
            "=================================================================\n",
            "embedding_21 (Embedding)     (None, 27, 100)           25810800  \n",
            "_________________________________________________________________\n",
            "conv1d_18 (Conv1D)           (None, 25, 128)           38528     \n",
            "_________________________________________________________________\n",
            "conv1d_19 (Conv1D)           (None, 23, 64)            24640     \n",
            "_________________________________________________________________\n",
            "conv1d_20 (Conv1D)           (None, 21, 32)            6176      \n",
            "_________________________________________________________________\n",
            "global_max_pooling1d_6 (Glob (None, 32)                0         \n",
            "_________________________________________________________________\n",
            "dense_48 (Dense)             (None, 32)                1056      \n",
            "_________________________________________________________________\n",
            "dropout_24 (Dropout)         (None, 32)                0         \n",
            "_________________________________________________________________\n",
            "dense_49 (Dense)             (None, 16)                528       \n",
            "_________________________________________________________________\n",
            "dropout_25 (Dropout)         (None, 16)                0         \n",
            "_________________________________________________________________\n",
            "dense_50 (Dense)             (None, 1)                 17        \n",
            "=================================================================\n",
            "Total params: 25,881,745\n",
            "Trainable params: 25,881,745\n",
            "Non-trainable params: 0\n",
            "_________________________________________________________________\n"
          ],
          "name": "stdout"
        }
      ]
    },
    {
      "cell_type": "code",
      "metadata": {
        "colab": {
          "base_uri": "https://localhost:8080/"
        },
        "id": "J17pYntFWQQo",
        "outputId": "d672d1da-c3dc-4926-8127-278863d4f3b0"
      },
      "source": [
        "early_stopping=EarlyStopping(monitor='val_loss', patience=1, restore_best_weights=True)  \n",
        "\n",
        "\n",
        "history = model.fit(X_train, y_train,\n",
        "                    batch_size=512,\n",
        "                    epochs=10,\n",
        "                    verbose=1,\n",
        "                    validation_data=(X_valid, y_val),\n",
        "                    # validation_split=0.1,\n",
        "                    callbacks=[early_stopping])"
      ],
      "execution_count": null,
      "outputs": [
        {
          "output_type": "stream",
          "text": [
            "Epoch 1/10\n",
            "355/355 [==============================] - 142s 397ms/step - loss: 0.5504 - accuracy: 0.7100 - val_loss: 0.5001 - val_accuracy: 0.7484\n",
            "Epoch 2/10\n",
            "355/355 [==============================] - 144s 406ms/step - loss: 0.2740 - accuracy: 0.8901 - val_loss: 0.6002 - val_accuracy: 0.7388\n"
          ],
          "name": "stdout"
        }
      ]
    },
    {
      "cell_type": "code",
      "metadata": {
        "id": "tlqISJA4gqFF"
      },
      "source": [
        ""
      ],
      "execution_count": null,
      "outputs": []
    },
    {
      "cell_type": "code",
      "metadata": {
        "id": "pg82zLUAhIct"
      },
      "source": [
        "class model_k(tf.keras.Model):\n",
        "    def __init__(self):\n",
        "        super(model_k, self).__init__()\n",
        "        self.emb = Embedding(input_dim=word_count,\n",
        "              input_length=training_length,\n",
        "              output_dim=30,\n",
        "              trainable=True,\n",
        "              mask_zero=True)\n",
        "        # self.act=Activation(\"relu\")\n",
        "        # self.norm=LayerNormalization()\n",
        "        # self.rnn1=SimpleRNN(128,return_sequences=True)\n",
        "        self.rnn2=SimpleRNN(128,recurrent_dropout=0.2,dropout=0.2,return_sequences=True,activation='relu')\n",
        "        self.rnn3=SimpleRNN(64,recurrent_dropout=0.2,dropout=0.2,activation='relu')\n",
        "        # self.pool = GlobalMaxPooling1D()\n",
        "        self.drop=Dropout(0.2)     \n",
        "        self.fc1 = Dense(32, activation='relu')\n",
        "        self.fc2 = Dense(16, activation='relu')\n",
        "        self.fc3 = Dense(1, activation='sigmoid')\n",
        "\n",
        "    def call(self, x):\n",
        "\n",
        "        x = self.emb(x)\n",
        "        # x= self.rnn1(x)\n",
        "        x= self.rnn2(x)  \n",
        "        x= self.rnn3(x)   \n",
        "        fc_x = self.fc1(self.drop(x))\n",
        "        fc_x = self.fc2(self.drop(fc_x))\n",
        "        out = self.fc3(self.drop(fc_x))\n",
        "\n",
        "        return out\n",
        "\n",
        "model=model_k()       \n",
        "model.compile(optimizer='adam', loss='binary_crossentropy', metrics=['accuracy'])\n"
      ],
      "execution_count": null,
      "outputs": []
    },
    {
      "cell_type": "code",
      "metadata": {
        "colab": {
          "base_uri": "https://localhost:8080/"
        },
        "id": "H8tJsWVjkRQ2",
        "outputId": "3032b97c-fea1-47c4-a7d8-319ad5d90c7a"
      },
      "source": [
        "early_stopping=EarlyStopping(monitor='val_loss', patience=1, restore_best_weights=True)  \n",
        "\n",
        "history = model.fit(X_train, y_train,\n",
        "                    batch_size=512,\n",
        "                    epochs=10,\n",
        "                    verbose=1,\n",
        "                    validation_data=(X_valid, y_val),\n",
        "                    # validation_split=0.1,\n",
        "                    callbacks=[early_stopping])\n",
        "model.summary()"
      ],
      "execution_count": null,
      "outputs": [
        {
          "output_type": "stream",
          "text": [
            "Epoch 1/10\n",
            "355/355 [==============================] - 117s 320ms/step - loss: 0.5832 - accuracy: 0.6745 - val_loss: 0.5064 - val_accuracy: 0.7455\n",
            "Epoch 2/10\n",
            "355/355 [==============================] - 114s 322ms/step - loss: 0.3723 - accuracy: 0.8419 - val_loss: 0.5233 - val_accuracy: 0.7457\n",
            "Model: \"model_k_8\"\n",
            "_________________________________________________________________\n",
            "Layer (type)                 Output Shape              Param #   \n",
            "=================================================================\n",
            "embedding_20 (Embedding)     multiple                  7743240   \n",
            "_________________________________________________________________\n",
            "simple_rnn_14 (SimpleRNN)    multiple                  20352     \n",
            "_________________________________________________________________\n",
            "simple_rnn_15 (SimpleRNN)    multiple                  12352     \n",
            "_________________________________________________________________\n",
            "dropout_23 (Dropout)         multiple                  0         \n",
            "_________________________________________________________________\n",
            "dense_45 (Dense)             multiple                  2080      \n",
            "_________________________________________________________________\n",
            "dense_46 (Dense)             multiple                  528       \n",
            "_________________________________________________________________\n",
            "dense_47 (Dense)             multiple                  17        \n",
            "=================================================================\n",
            "Total params: 7,778,569\n",
            "Trainable params: 7,778,569\n",
            "Non-trainable params: 0\n",
            "_________________________________________________________________\n"
          ],
          "name": "stdout"
        }
      ]
    },
    {
      "cell_type": "code",
      "metadata": {
        "id": "sJH6tCaStVB_"
      },
      "source": [
        ""
      ],
      "execution_count": null,
      "outputs": []
    },
    {
      "cell_type": "code",
      "metadata": {
        "id": "bThp73u4tVqr"
      },
      "source": [
        "class model_k(tf.keras.Model):\n",
        "    def __init__(self):\n",
        "        super(model_k, self).__init__()\n",
        "        self.emb = Embedding(input_dim=word_count,\n",
        "              input_length=training_length,\n",
        "              output_dim=100,\n",
        "              trainable=True,\n",
        "              mask_zero=True)\n",
        "        self.act=Activation(\"relu\")\n",
        "        # self.norm=LayerNormalization()\n",
        "        self.rnn1=GRU(128,dropout=0.2,recurrent_dropout=0.2,return_sequences=True)\n",
        "        self.rnn2=GRU(64,recurrent_dropout=0.2,dropout=0.2,return_sequences=True)\n",
        "        self.rnn3=GRU(32,recurrent_dropout=0.2,dropout=0.2)\n",
        "        # self.pool = GlobalMaxPool1D()\n",
        "        self.drop=Dropout(0.2)     \n",
        "        self.fc1 = Dense(32, activation='relu')\n",
        "        self.fc2 = Dense(16, activation='relu')\n",
        "        self.fc3 = Dense(1, activation='sigmoid')\n",
        "\n",
        "    def call(self, x):\n",
        "\n",
        "        x = self.emb(x)\n",
        "        # x= self.rnn1(x)\n",
        "        x= self.rnn2(x)\n",
        "        x= self.rnn3(x)      \n",
        "        fc_x = self.fc1(self.drop(x))\n",
        "        fc_x = self.fc2(self.drop(fc_x))\n",
        "        out = self.fc3(self.drop(fc_x))\n",
        "\n",
        "        return out\n",
        "\n",
        "model=model_k()       \n",
        "model.compile(optimizer='adam', loss='binary_crossentropy', metrics=['accuracy'])\n"
      ],
      "execution_count": null,
      "outputs": []
    },
    {
      "cell_type": "code",
      "metadata": {
        "colab": {
          "base_uri": "https://localhost:8080/"
        },
        "id": "TpKasfQaxPTS",
        "outputId": "22f9b70e-53ec-4e41-adcc-6ae6d92b984f"
      },
      "source": [
        "early_stopping=EarlyStopping(monitor='val_loss', patience=1, restore_best_weights=True)  \n",
        "\n",
        "history = model.fit(X_train, y_train,\n",
        "                    batch_size=512,\n",
        "                    epochs=10,\n",
        "                    verbose=1,\n",
        "                    validation_data=(X_valid, y_val),\n",
        "                    # validation_split=0.2,\n",
        "                    callbacks=[early_stopping])\n",
        "model.summary()"
      ],
      "execution_count": null,
      "outputs": [
        {
          "output_type": "stream",
          "text": [
            "Epoch 1/10\n",
            "355/355 [==============================] - 223s 609ms/step - loss: 0.5508 - accuracy: 0.7090 - val_loss: 0.4957 - val_accuracy: 0.7535\n",
            "Epoch 2/10\n",
            "355/355 [==============================] - 218s 615ms/step - loss: 0.3071 - accuracy: 0.8751 - val_loss: 0.5677 - val_accuracy: 0.7452\n",
            "Model: \"model_k_21\"\n",
            "_________________________________________________________________\n",
            "Layer (type)                 Output Shape              Param #   \n",
            "=================================================================\n",
            "embedding_40 (Embedding)     multiple                  25810800  \n",
            "_________________________________________________________________\n",
            "activation_21 (Activation)   multiple                  0 (unused)\n",
            "_________________________________________________________________\n",
            "gru_48 (GRU)                 multiple                  0 (unused)\n",
            "_________________________________________________________________\n",
            "gru_49 (GRU)                 multiple                  31872     \n",
            "_________________________________________________________________\n",
            "gru_50 (GRU)                 multiple                  9408      \n",
            "_________________________________________________________________\n",
            "dropout_56 (Dropout)         multiple                  0         \n",
            "_________________________________________________________________\n",
            "dense_116 (Dense)            multiple                  1056      \n",
            "_________________________________________________________________\n",
            "dense_117 (Dense)            multiple                  528       \n",
            "_________________________________________________________________\n",
            "dense_118 (Dense)            multiple                  17        \n",
            "=================================================================\n",
            "Total params: 25,853,681\n",
            "Trainable params: 25,853,681\n",
            "Non-trainable params: 0\n",
            "_________________________________________________________________\n"
          ],
          "name": "stdout"
        }
      ]
    },
    {
      "cell_type": "code",
      "metadata": {
        "id": "5WaApxd7Fxrx"
      },
      "source": [
        ""
      ],
      "execution_count": null,
      "outputs": []
    },
    {
      "cell_type": "code",
      "metadata": {
        "id": "nJc2_nzkF4Us"
      },
      "source": [
        "class model_k(tf.keras.Model):\n",
        "    def __init__(self):\n",
        "        super(model_k, self).__init__()\n",
        "        self.emb = Embedding(input_dim=word_count,\n",
        "              input_length=training_length,\n",
        "              output_dim=100,\n",
        "              trainable=True,\n",
        "              mask_zero=True)\n",
        "        # self.act=Activation(\"relu\")\n",
        "        # self.norm=LayerNormalization()\n",
        "        self.rnn1=LSTM(128,dropout=0.2,recurrent_dropout=0.2,return_sequences=True)\n",
        "        self.rnn2=LSTM(64,recurrent_dropout=0.2,dropout=0.2,return_sequences=True)\n",
        "        self.rnn3=LSTM(32,recurrent_dropout=0.2,dropout=0.2)\n",
        "        # self.pool = GlobalMaxPooling1D()\n",
        "        self.drop=Dropout(0.2)     \n",
        "        self.fc1 = Dense(32, activation='relu')\n",
        "        self.fc2 = Dense(16, activation='relu')\n",
        "        self.fc3 = Dense(1, activation='sigmoid')\n",
        "\n",
        "    def call(self, x):\n",
        "\n",
        "        x = self.emb(x)\n",
        "        # x= self.rnn1(x)\n",
        "        x= self.rnn2(x)\n",
        "        x= self.rnn3(x)      \n",
        "        fc_x = self.fc1(self.drop(x))\n",
        "        fc_x = self.fc2(self.drop(fc_x))\n",
        "        out = self.fc3(self.drop(fc_x))\n",
        "\n",
        "        return out\n",
        "\n",
        "model=model_k()       \n",
        "model.compile(optimizer='adam', loss='binary_crossentropy', metrics=['accuracy'])\n"
      ],
      "execution_count": null,
      "outputs": []
    },
    {
      "cell_type": "code",
      "metadata": {
        "colab": {
          "base_uri": "https://localhost:8080/"
        },
        "id": "r5mdhuDUGGSR",
        "outputId": "60990c1b-becf-4c00-c346-0454a787b8d2"
      },
      "source": [
        "early_stopping=EarlyStopping(monitor='val_loss', patience=1, restore_best_weights=True)  \n",
        "\n",
        "history = model.fit(X_train, y_train,\n",
        "                    batch_size=512,\n",
        "                    epochs=10,\n",
        "                    verbose=1,\n",
        "                    validation_data=(X_valid, y_val),\n",
        "                    # validation_split=0.2,\n",
        "                    callbacks=[early_stopping])\n",
        "model.summary()"
      ],
      "execution_count": null,
      "outputs": [
        {
          "output_type": "stream",
          "text": [
            "Epoch 1/10\n",
            "355/355 [==============================] - 253s 693ms/step - loss: 0.5504 - accuracy: 0.7117 - val_loss: 0.5004 - val_accuracy: 0.7504\n",
            "Epoch 2/10\n",
            "355/355 [==============================] - 244s 687ms/step - loss: 0.3067 - accuracy: 0.8742 - val_loss: 0.6044 - val_accuracy: 0.7413\n",
            "Model: \"model_k_22\"\n",
            "_________________________________________________________________\n",
            "Layer (type)                 Output Shape              Param #   \n",
            "=================================================================\n",
            "embedding_41 (Embedding)     multiple                  25810800  \n",
            "_________________________________________________________________\n",
            "activation_22 (Activation)   multiple                  0 (unused)\n",
            "_________________________________________________________________\n",
            "lstm (LSTM)                  multiple                  0 (unused)\n",
            "_________________________________________________________________\n",
            "lstm_1 (LSTM)                multiple                  42240     \n",
            "_________________________________________________________________\n",
            "lstm_2 (LSTM)                multiple                  12416     \n",
            "_________________________________________________________________\n",
            "dropout_57 (Dropout)         multiple                  0         \n",
            "_________________________________________________________________\n",
            "dense_119 (Dense)            multiple                  1056      \n",
            "_________________________________________________________________\n",
            "dense_120 (Dense)            multiple                  528       \n",
            "_________________________________________________________________\n",
            "dense_121 (Dense)            multiple                  17        \n",
            "=================================================================\n",
            "Total params: 25,867,057\n",
            "Trainable params: 25,867,057\n",
            "Non-trainable params: 0\n",
            "_________________________________________________________________\n"
          ],
          "name": "stdout"
        }
      ]
    },
    {
      "cell_type": "code",
      "metadata": {
        "id": "oQmD9eoBDveX"
      },
      "source": [
        ""
      ],
      "execution_count": null,
      "outputs": []
    },
    {
      "cell_type": "code",
      "metadata": {
        "id": "HBjG36xpDxgf"
      },
      "source": [
        "class model_k(tf.keras.Model):\n",
        "    def __init__(self):\n",
        "        super(model_k, self).__init__()\n",
        "        self.emb = Embedding(input_dim=word_count,\n",
        "              input_length=training_length,\n",
        "              output_dim=100,\n",
        "              trainable=True,\n",
        "              mask_zero=True)\n",
        "        self.act=Activation(\"relu\")\n",
        "        # self.norm=LayerNormalization()\n",
        "        self.rnn2=Bidirectional(GRU(64,return_sequences=True))\n",
        "        self.rnn3=Bidirectional(GRU(32))\n",
        "        # self.pool = GlobalMaxPooling1D()\n",
        "        self.drop=Dropout(0.2)     \n",
        "        self.fc1 = Dense(32, activation='relu')\n",
        "        self.fc2 = Dense(16, activation='relu')\n",
        "        self.fc3 = Dense(1, activation='sigmoid')\n",
        "\n",
        "    def call(self, x):\n",
        "\n",
        "        x = self.emb(x)\n",
        "        # x= self.rnn1(x)\n",
        "        x= self.rnn2(x)\n",
        "        x= self.rnn3(x)      \n",
        "        fc_x = self.fc1(self.drop(x))\n",
        "        fc_x = self.fc2(self.drop(fc_x))\n",
        "        out = self.fc3(self.drop(fc_x))\n",
        "\n",
        "        return out\n",
        "\n",
        "model=model_k()       \n",
        "model.compile(optimizer='adam', loss='binary_crossentropy', metrics=['accuracy'])\n"
      ],
      "execution_count": null,
      "outputs": []
    },
    {
      "cell_type": "code",
      "metadata": {
        "colab": {
          "base_uri": "https://localhost:8080/"
        },
        "id": "01R_hVffGK_c",
        "outputId": "a5132495-2475-4ba6-c9c6-24411a4d79d0"
      },
      "source": [
        "early_stopping=EarlyStopping(monitor='val_loss', patience=1, restore_best_weights=True)  \n",
        "\n",
        "history = model.fit(X_train, y_train,\n",
        "                    batch_size=512,\n",
        "                    epochs=10,\n",
        "                    verbose=1,\n",
        "                    validation_data=(X_valid, y_val),\n",
        "                    # validation_split=0.2,\n",
        "                    callbacks=[early_stopping])\n",
        "model.summary()"
      ],
      "execution_count": null,
      "outputs": [
        {
          "output_type": "stream",
          "text": [
            "Epoch 1/10\n",
            "355/355 [==============================] - 270s 718ms/step - loss: 0.5417 - accuracy: 0.7185 - val_loss: 0.4960 - val_accuracy: 0.7528\n",
            "Epoch 2/10\n",
            "355/355 [==============================] - 247s 696ms/step - loss: 0.2726 - accuracy: 0.8921 - val_loss: 0.6141 - val_accuracy: 0.7389\n",
            "Model: \"model_k_25\"\n",
            "_________________________________________________________________\n",
            "Layer (type)                 Output Shape              Param #   \n",
            "=================================================================\n",
            "embedding_44 (Embedding)     multiple                  25810800  \n",
            "_________________________________________________________________\n",
            "activation_25 (Activation)   multiple                  0 (unused)\n",
            "_________________________________________________________________\n",
            "bidirectional_2 (Bidirection multiple                  63744     \n",
            "_________________________________________________________________\n",
            "bidirectional_3 (Bidirection multiple                  31104     \n",
            "_________________________________________________________________\n",
            "dropout_59 (Dropout)         multiple                  0         \n",
            "_________________________________________________________________\n",
            "dense_125 (Dense)            multiple                  2080      \n",
            "_________________________________________________________________\n",
            "dense_126 (Dense)            multiple                  528       \n",
            "_________________________________________________________________\n",
            "dense_127 (Dense)            multiple                  17        \n",
            "=================================================================\n",
            "Total params: 25,908,273\n",
            "Trainable params: 25,908,273\n",
            "Non-trainable params: 0\n",
            "_________________________________________________________________\n"
          ],
          "name": "stdout"
        }
      ]
    },
    {
      "cell_type": "code",
      "metadata": {
        "id": "-DbIyTX206FM"
      },
      "source": [
        ""
      ],
      "execution_count": null,
      "outputs": []
    },
    {
      "cell_type": "code",
      "metadata": {
        "id": "TmyMSx0CUWGd"
      },
      "source": [
        ""
      ],
      "execution_count": null,
      "outputs": []
    },
    {
      "cell_type": "code",
      "metadata": {
        "colab": {
          "base_uri": "https://localhost:8080/"
        },
        "id": "EXI35B9AkW6H",
        "outputId": "de676b96-e489-461a-fdc0-23bfee965127"
      },
      "source": [
        "model = Sequential()\n",
        "\n",
        "model.add(\n",
        "    Embedding(input_dim=word_count,\n",
        "              input_length=training_length,\n",
        "              output_dim=100,\n",
        "              trainable=True,\n",
        "              mask_zero=True))\n",
        "\n",
        "model.add(GRU(64,return_sequences=True))\n",
        "model.add(Conv1D(32, 3, activation='relu'))\n",
        "model.add(GlobalMaxPool1D())\n",
        "model.add(Dense(32, activation='relu'))\n",
        "model.add(Dropout(0.2))\n",
        "model.add(Dense(16, activation='relu'))\n",
        "model.add(Dropout(0.2))\n",
        "model.add(Dense(1, activation='sigmoid'))\n",
        "\n",
        "optim =tf.keras.optimizers.Adam(\n",
        "    learning_rate=0.001, beta_1=0.9, beta_2=0.999, epsilon=1e-07,\n",
        "    name='Adam')\n",
        "\n",
        "model.compile(\n",
        "    optimizer=optim, loss='binary_crossentropy', metrics=['accuracy'])\n",
        "model.summary()"
      ],
      "execution_count": null,
      "outputs": [
        {
          "output_type": "stream",
          "text": [
            "Model: \"sequential_14\"\n",
            "_________________________________________________________________\n",
            "Layer (type)                 Output Shape              Param #   \n",
            "=================================================================\n",
            "embedding_23 (Embedding)     (None, 27, 100)           25810800  \n",
            "_________________________________________________________________\n",
            "gru_14 (GRU)                 (None, 27, 64)            31872     \n",
            "_________________________________________________________________\n",
            "conv1d_22 (Conv1D)           (None, 25, 32)            6176      \n",
            "_________________________________________________________________\n",
            "global_max_pooling1d_8 (Glob (None, 32)                0         \n",
            "_________________________________________________________________\n",
            "dense_54 (Dense)             (None, 32)                1056      \n",
            "_________________________________________________________________\n",
            "dropout_28 (Dropout)         (None, 32)                0         \n",
            "_________________________________________________________________\n",
            "dense_55 (Dense)             (None, 16)                528       \n",
            "_________________________________________________________________\n",
            "dropout_29 (Dropout)         (None, 16)                0         \n",
            "_________________________________________________________________\n",
            "dense_56 (Dense)             (None, 1)                 17        \n",
            "=================================================================\n",
            "Total params: 25,850,449\n",
            "Trainable params: 25,850,449\n",
            "Non-trainable params: 0\n",
            "_________________________________________________________________\n"
          ],
          "name": "stdout"
        }
      ]
    },
    {
      "cell_type": "code",
      "metadata": {
        "colab": {
          "base_uri": "https://localhost:8080/"
        },
        "id": "3dwfhZP1kdzP",
        "outputId": "8cb2fe8d-ab18-4b9d-b44f-793778f72e58"
      },
      "source": [
        "early_stopping=EarlyStopping(monitor='val_loss', patience=1, restore_best_weights=True)  \n",
        "\n",
        "history = model.fit(X_train, y_train,\n",
        "                    batch_size=512,\n",
        "                    epochs=10,\n",
        "                    verbose=1,\n",
        "                    validation_data=(X_valid, y_val),\n",
        "                    # validation_split=0.1,\n",
        "                    callbacks=[early_stopping])\n",
        "model.summary()"
      ],
      "execution_count": null,
      "outputs": [
        {
          "output_type": "stream",
          "text": [
            "Epoch 1/10\n",
            "355/355 [==============================] - 155s 424ms/step - loss: 0.5433 - accuracy: 0.7159 - val_loss: 0.4978 - val_accuracy: 0.7507\n",
            "Epoch 2/10\n",
            "355/355 [==============================] - 149s 419ms/step - loss: 0.2773 - accuracy: 0.8892 - val_loss: 0.6018 - val_accuracy: 0.7415\n",
            "Model: \"sequential_14\"\n",
            "_________________________________________________________________\n",
            "Layer (type)                 Output Shape              Param #   \n",
            "=================================================================\n",
            "embedding_23 (Embedding)     (None, 27, 100)           25810800  \n",
            "_________________________________________________________________\n",
            "gru_14 (GRU)                 (None, 27, 64)            31872     \n",
            "_________________________________________________________________\n",
            "conv1d_22 (Conv1D)           (None, 25, 32)            6176      \n",
            "_________________________________________________________________\n",
            "global_max_pooling1d_8 (Glob (None, 32)                0         \n",
            "_________________________________________________________________\n",
            "dense_54 (Dense)             (None, 32)                1056      \n",
            "_________________________________________________________________\n",
            "dropout_28 (Dropout)         (None, 32)                0         \n",
            "_________________________________________________________________\n",
            "dense_55 (Dense)             (None, 16)                528       \n",
            "_________________________________________________________________\n",
            "dropout_29 (Dropout)         (None, 16)                0         \n",
            "_________________________________________________________________\n",
            "dense_56 (Dense)             (None, 1)                 17        \n",
            "=================================================================\n",
            "Total params: 25,850,449\n",
            "Trainable params: 25,850,449\n",
            "Non-trainable params: 0\n",
            "_________________________________________________________________\n"
          ],
          "name": "stdout"
        }
      ]
    },
    {
      "cell_type": "code",
      "metadata": {
        "id": "J_pYQ-XUh4Gr"
      },
      "source": [
        ""
      ],
      "execution_count": null,
      "outputs": []
    },
    {
      "cell_type": "code",
      "metadata": {
        "colab": {
          "base_uri": "https://localhost:8080/"
        },
        "id": "-h9Ed6Z0h5SS",
        "outputId": "06b9c40f-c392-4830-895e-afafaa41666d"
      },
      "source": [
        "model = Sequential()\n",
        "\n",
        "model.add(\n",
        "    Embedding(input_dim=word_count,\n",
        "              input_length=training_length,\n",
        "              output_dim=100,\n",
        "              trainable=True,\n",
        "              mask_zero=True))\n",
        "model.add(Conv1D(64, 3,activation='relu'))\n",
        "# model.add(Conv1D(64, 3))\n",
        "# model.add(Conv1D(16, 3))\n",
        "# model.add(GRU(64,return_sequences=True))\n",
        "model.add(GRU(32))\n",
        "model.add(Dense(32, activation='relu'))\n",
        "model.add(Dropout(0.2))\n",
        "model.add(Dense(16, activation='relu'))\n",
        "model.add(Dropout(0.2))\n",
        "model.add(Dense(1, activation='sigmoid'))\n",
        "\n",
        "optim =tf.keras.optimizers.Adam(\n",
        "    learning_rate=0.001, beta_1=0.9, beta_2=0.999, epsilon=1e-07,\n",
        "    name='Adam')\n",
        "\n",
        "model.compile(\n",
        "    optimizer=optim, loss='binary_crossentropy', metrics=['accuracy'])\n",
        "model.summary()"
      ],
      "execution_count": null,
      "outputs": [
        {
          "output_type": "stream",
          "text": [
            "Model: \"sequential_16\"\n",
            "_________________________________________________________________\n",
            "Layer (type)                 Output Shape              Param #   \n",
            "=================================================================\n",
            "embedding_25 (Embedding)     (None, 27, 100)           25810800  \n",
            "_________________________________________________________________\n",
            "conv1d_24 (Conv1D)           (None, 25, 64)            19264     \n",
            "_________________________________________________________________\n",
            "gru_16 (GRU)                 (None, 32)                9408      \n",
            "_________________________________________________________________\n",
            "dense_60 (Dense)             (None, 32)                1056      \n",
            "_________________________________________________________________\n",
            "dropout_32 (Dropout)         (None, 32)                0         \n",
            "_________________________________________________________________\n",
            "dense_61 (Dense)             (None, 16)                528       \n",
            "_________________________________________________________________\n",
            "dropout_33 (Dropout)         (None, 16)                0         \n",
            "_________________________________________________________________\n",
            "dense_62 (Dense)             (None, 1)                 17        \n",
            "=================================================================\n",
            "Total params: 25,841,073\n",
            "Trainable params: 25,841,073\n",
            "Non-trainable params: 0\n",
            "_________________________________________________________________\n"
          ],
          "name": "stdout"
        }
      ]
    },
    {
      "cell_type": "code",
      "metadata": {
        "colab": {
          "base_uri": "https://localhost:8080/"
        },
        "id": "H_hfFfBRkLtu",
        "outputId": "3d896a0e-8dc6-4536-8377-c1abc635544e"
      },
      "source": [
        "early_stopping=EarlyStopping(monitor='val_loss', patience=1, restore_best_weights=True)  \n",
        "\n",
        "history = model.fit(X_train, y_train,\n",
        "                    batch_size=512,\n",
        "                    epochs=10,\n",
        "                    verbose=1,\n",
        "                    validation_data=(X_valid, y_val),\n",
        "                    # validation_split=0.1,\n",
        "                    callbacks=[early_stopping])\n",
        "model.summary()"
      ],
      "execution_count": null,
      "outputs": [
        {
          "output_type": "stream",
          "text": [
            "Epoch 1/10\n",
            "355/355 [==============================] - 132s 365ms/step - loss: 0.5466 - accuracy: 0.7147 - val_loss: 0.5026 - val_accuracy: 0.7512\n",
            "Epoch 2/10\n",
            "355/355 [==============================] - 126s 356ms/step - loss: 0.2758 - accuracy: 0.8888 - val_loss: 0.6385 - val_accuracy: 0.7355\n",
            "Model: \"sequential_16\"\n",
            "_________________________________________________________________\n",
            "Layer (type)                 Output Shape              Param #   \n",
            "=================================================================\n",
            "embedding_25 (Embedding)     (None, 27, 100)           25810800  \n",
            "_________________________________________________________________\n",
            "conv1d_24 (Conv1D)           (None, 25, 64)            19264     \n",
            "_________________________________________________________________\n",
            "gru_16 (GRU)                 (None, 32)                9408      \n",
            "_________________________________________________________________\n",
            "dense_60 (Dense)             (None, 32)                1056      \n",
            "_________________________________________________________________\n",
            "dropout_32 (Dropout)         (None, 32)                0         \n",
            "_________________________________________________________________\n",
            "dense_61 (Dense)             (None, 16)                528       \n",
            "_________________________________________________________________\n",
            "dropout_33 (Dropout)         (None, 16)                0         \n",
            "_________________________________________________________________\n",
            "dense_62 (Dense)             (None, 1)                 17        \n",
            "=================================================================\n",
            "Total params: 25,841,073\n",
            "Trainable params: 25,841,073\n",
            "Non-trainable params: 0\n",
            "_________________________________________________________________\n"
          ],
          "name": "stdout"
        }
      ]
    },
    {
      "cell_type": "markdown",
      "metadata": {
        "id": "0-OYdiS3IF26"
      },
      "source": [
        "В целом, модели с rnn показывают чуть лучше результаты, чем cnn. Что касается комбинированных моделей, то объем тренируемой выборки сравнительно невелик, модель быстро переобучается, и поэтому на ней затруднительно использовать сложные модели."
      ]
    },
    {
      "cell_type": "code",
      "metadata": {
        "id": "rp5HdqV1DnwQ"
      },
      "source": [
        ""
      ],
      "execution_count": null,
      "outputs": []
    }
  ]
}